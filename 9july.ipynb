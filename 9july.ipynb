{
 "cells": [
  {
   "cell_type": "markdown",
   "metadata": {},
   "source": [
    "# Day Objectives\n",
    "### Python data structures\n",
    "### Lists\n",
    "### Tuples\n",
    "### Dictionaries\n",
    "### Basic Program Sets on Data Structures\n",
    "### Advanced Problem set\n",
    "### Contact application(Dictionary object)\n",
    "\n",
    "# Data Structures\n",
    "\n",
    "### To store,search and sort the data"
   ]
  },
  {
   "cell_type": "markdown",
   "metadata": {},
   "source": [
    "## Python data structures\n",
    "### Lists\n",
    "### It is one of the common data structures supported by python,the list items are separated by square brackets\n",
    "### Examples\n",
    "### List=[\"gitam',12,10,\"Hyderabad\"]"
   ]
  },
  {
   "cell_type": "code",
   "execution_count": 17,
   "metadata": {
    "scrolled": false
   },
   "outputs": [
    {
     "name": "stdout",
     "output_type": "stream",
     "text": [
      "1\n",
      "18\n",
      "36\n",
      "7\n",
      "13.5\n"
     ]
    }
   ],
   "source": [
    "# Function of the list\n",
    "lst1 = [1,9,6,18,2]\n",
    "print(min(lst1)) # min item/element of the list\n",
    "print(max(lst1)) # max element of the list\n",
    "print(sum(lst1)) # sum of all elements of the list\n",
    "print(sum(lst1)//len(lst1)) # average of list elements\n",
    "print(sum(lst1[1::2])/len(lst1[1::2])) # average of all\n"
   ]
  },
  {
   "cell_type": "code",
   "execution_count": 11,
   "metadata": {},
   "outputs": [
    {
     "name": "stdout",
     "output_type": "stream",
     "text": [
      "5\n",
      "[1, 9, 6, 18, 12, 1, 9, 6, 18, 12]\n",
      "5\n",
      "True\n",
      "False\n"
     ]
    }
   ],
   "source": [
    "# Basic list operations\n",
    "lst1=[1,9,6,18,12]\n",
    "print(len(lst1)) # len of the list\n",
    "print(lst1 * 2) # repetation\n",
    "print(len(lst1))\n",
    "print(9 in lst1) # list item is present or not\n",
    "print(15 in lst1) \n"
   ]
  },
  {
   "cell_type": "code",
   "execution_count": 16,
   "metadata": {},
   "outputs": [
    {
     "name": "stdout",
     "output_type": "stream",
     "text": [
      "1961812"
     ]
    },
    {
     "ename": "TypeError",
     "evalue": "'int' object is not subscriptable",
     "output_type": "error",
     "traceback": [
      "\u001b[1;31m---------------------------------------------------------------------------\u001b[0m",
      "\u001b[1;31mTypeError\u001b[0m                                 Traceback (most recent call last)",
      "\u001b[1;32m<ipython-input-16-1f822935e9d8>\u001b[0m in \u001b[0;36m<module>\u001b[1;34m\u001b[0m\n\u001b[0;32m      1\u001b[0m \u001b[1;31m# access the list items using iterations\u001b[0m\u001b[1;33m\u001b[0m\u001b[1;33m\u001b[0m\u001b[1;33m\u001b[0m\u001b[0m\n\u001b[0;32m      2\u001b[0m \u001b[1;32mfor\u001b[0m \u001b[0mx\u001b[0m \u001b[1;32min\u001b[0m \u001b[0mrange\u001b[0m\u001b[1;33m(\u001b[0m\u001b[0mlen\u001b[0m\u001b[1;33m(\u001b[0m\u001b[0mlst1\u001b[0m\u001b[1;33m)\u001b[0m\u001b[1;33m)\u001b[0m\u001b[1;33m:\u001b[0m\u001b[0mprint\u001b[0m\u001b[1;33m(\u001b[0m\u001b[0mlst1\u001b[0m\u001b[1;33m[\u001b[0m\u001b[0mx\u001b[0m\u001b[1;33m]\u001b[0m\u001b[1;33m,\u001b[0m\u001b[0mend\u001b[0m\u001b[1;33m=\u001b[0m\u001b[1;34m''\u001b[0m\u001b[1;33m)\u001b[0m\u001b[1;33m\u001b[0m\u001b[1;33m\u001b[0m\u001b[0m\n\u001b[1;32m----> 3\u001b[1;33m \u001b[1;36m5\u001b[0m \u001b[1;33m[\u001b[0m\u001b[1;36m1\u001b[0m\u001b[1;33m,\u001b[0m \u001b[1;36m9\u001b[0m\u001b[1;33m,\u001b[0m \u001b[1;36m6\u001b[0m\u001b[1;33m,\u001b[0m \u001b[1;36m18\u001b[0m\u001b[1;33m,\u001b[0m \u001b[1;36m2\u001b[0m\u001b[1;33m,\u001b[0m \u001b[1;36m1\u001b[0m\u001b[1;33m,\u001b[0m \u001b[1;36m9\u001b[0m\u001b[1;33m,\u001b[0m \u001b[1;36m6\u001b[0m\u001b[1;33m,\u001b[0m \u001b[1;36m18\u001b[0m\u001b[1;33m,\u001b[0m \u001b[1;36m2\u001b[0m\u001b[1;33m]\u001b[0m\u001b[1;33m\u001b[0m\u001b[1;33m\u001b[0m\u001b[0m\n\u001b[0m\u001b[0;32m      4\u001b[0m \u001b[1;33m\u001b[0m\u001b[0m\n",
      "\u001b[1;31mTypeError\u001b[0m: 'int' object is not subscriptable"
     ]
    }
   ],
   "source": [
    "# access the list items using iterations\n",
    "for x in range(len(lst1)):print(lst1[x],end='')\n",
    "5 [1, 9, 6, 18, 2, 1, 9, 6, 18, 2]\n",
    "\n"
   ]
  },
  {
   "cell_type": "code",
   "execution_count": 18,
   "metadata": {},
   "outputs": [
    {
     "name": "stdout",
     "output_type": "stream",
     "text": [
      "[2, 4, 6, 8, 12, 24]\n",
      "[2, 4, 56, 6, 8, 12, 24]\n",
      "[2, 4, 56, 6, 8, 12, 24]\n",
      "[2, 4, 6, 8, 12, 24, 56]\n",
      "[2, 4, 6, 8, 12, 24]\n",
      "[2, 6, 8, 12, 24]\n",
      "[45, 23, 123, 24, 12, 8, 6, 2]\n",
      "[45, 23, 24, 12, 8, 6, 2]\n"
     ]
    }
   ],
   "source": [
    "# methods of list object\n",
    "lst1=[2,4,6,8,12]\n",
    "lst1.append(24) # adding a new element at the end of the list\n",
    "print(lst1)\n",
    "lst1.insert(2,56) # adding an element at particular index\n",
    "print(lst1)\n",
    "lst1.count(18) # return the value how many times the object repeated\n",
    "print(lst1)\n",
    "lst1.index(56)\n",
    "lst1.sort() # remove the last element fom the list\n",
    "print(lst1)\n",
    "lst1.pop() # remove the last element from the list\n",
    "print(lst1)\n",
    "lst1.pop(1) # remove the element from a particular index\n",
    "print(lst1)\n",
    "lst2 = [123,23,45]\n",
    "lst1.extend(lst2) # merge the list2 into list1\n",
    "lst1.reverse() # reverse the list\n",
    "print(lst1)\n",
    "lst1.remove(123) # remove the elements from the list\n",
    "print(lst1)\n"
   ]
  },
  {
   "cell_type": "code",
   "execution_count": 23,
   "metadata": {},
   "outputs": [
    {
     "data": {
      "text/plain": [
       "1"
      ]
     },
     "execution_count": 23,
     "metadata": {},
     "output_type": "execute_result"
    }
   ],
   "source": [
    " # function to count the occurence\n",
    " # \"Python Programming\",P ->2\n",
    " # \"Python Programming\",m ->2\n",
    "def countcharOccurances(s,c):\n",
    "    cnt=0\n",
    "    for ch in s:\n",
    "        if ch==c:\n",
    "            cnt+=1\n",
    "            return cnt\n",
    "countcharOccurances(\"Python Programming\",'m')"
   ]
  }
 ],
 "metadata": {
  "kernelspec": {
   "display_name": "Python 3",
   "language": "python",
   "name": "python3"
  },
  "language_info": {
   "codemirror_mode": {
    "name": "ipython",
    "version": 3
   },
   "file_extension": ".py",
   "mimetype": "text/x-python",
   "name": "python",
   "nbconvert_exporter": "python",
   "pygments_lexer": "ipython3",
   "version": "3.7.3"
  }
 },
 "nbformat": 4,
 "nbformat_minor": 2
}
